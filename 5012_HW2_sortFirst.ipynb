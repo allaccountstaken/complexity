{
 "cells": [
  {
   "cell_type": "markdown",
   "metadata": {
    "id": "YgaqXBYJDx0D"
   },
   "source": [
    "# 5012 HW #2. Improve code Efficiency: Sort First!\n",
    "\n",
    "## Scenario. \n",
    "\n",
    "In a two class, classification problem, it is common to use a classifier that outputs confidences (rather than simply class labels). A good example of this is a Support Vector Machine. A pro for using such a classifier is that you gain more information -- specifically the confidence in the classification result. A con is that in order to make a final classification decision, a threshold value must be determined. For example, if a threshold of 0.75 is chosen, the class label 1 would be assigned for confidences greater than 0.75 and for confidences less than 0.75 a class label of 0 would be assigned. However, this begs the question: how is the threshold chosen?\n",
    "\n",
    "Many data scientists will choose a threshold based on the experimental results and/or operational constraints. In this code example, we assume that we have confidences and true labels for a large data set. To determine a good threshold we will compute the true positive rates (TPRs) and false positive rates (FPRs) at all relevant thresholds. The relevant thresholds are considered those that would change the TPRs and FPRs. \n",
    "\n",
    "In the code below, a function is defined to compute the TPR and FPR at all relevant thresholds. However, the code is not very efficient and can be improved. (Note there are tips and hints found in the comments.) \n",
    "\n",
    "Your task is the following:\n",
    "\n",
    "## Question 1\n",
    "**40 POINTS**  \n",
    "Assess the time complexity of the method computeAllTPRs(...). Provide a line-by-line assessment in comments identifying the proportional number of steps (bounding notation is sufficient) per line: eg, O(1), O(log n), O(n), etc. Also, derive a time step function T(n) for the entire method (where n is the size of input true_label).\n",
    "\n",
    "## Question 2\n",
    "**30 POINTS**  \n",
    "Implement a new function computeAllTPRs_improved(...) which performs the same task as computeAllTPRs but has a significantly reduced time complexity. Also provide a line-by-line assessment in comments identifying the proportional number of steps per line, and derive a time step function T(n) for the entire method (where n is the size of input true_label).\n",
    "\n",
    "## Question 3\n",
    "**30 POINTS**  \n",
    "Compare the theoretical time complexities of both methods and predict which is more efficient. Next, test your prediction by timing both methods on sample inputs of varying sizes. Create a plot of inputSize vs runtime (as done in similar class examples).  \n",
    "\n",
    "**TOTAL POINTS: 100**\n",
    "\n",
    "---"
   ]
  },
  {
   "cell_type": "code",
   "execution_count": 150,
   "metadata": {
    "id": "tQs8b3ccEskN"
   },
   "outputs": [],
   "source": [
    "import matplotlib.pyplot as plt\n",
    "import random\n",
    "import time\n",
    "from copy import deepcopy\n",
    "from numpy import argmax"
   ]
  },
  {
   "cell_type": "markdown",
   "metadata": {
    "id": "l4t6Gd-XNWdr"
   },
   "source": [
    "Answer Question #1 in the comments of the code chunk below. \n",
    "\n",
    "**Answer: as shown in the comments to the code below, T(n) is O(n^3). Although there is only one for loop, inside this loop a variable `agrMax` is recreated in linear time for every new iteration. In addition to that, every iteration `maxVal` is also created inside the loop, but it is not used anywhere else.**"
   ]
  },
  {
   "cell_type": "code",
   "execution_count": 206,
   "metadata": {
    "id": "IFu90tkjEORa"
   },
   "outputs": [],
   "source": [
    "def computeAllTPRs(true_label, confs):\n",
    "    \n",
    "        '''\n",
    "        inputs:\n",
    "         - true_label: list of labels, assumed to be 0 or 1 (a two class problem)\n",
    "         - confs: list of confidences\n",
    "\n",
    "        This method computes the True Positive Rate (TPRs) and FPRs for all relevant\n",
    "        thresholds given true_label and confs. Relevant thresholds are considered\n",
    "        all different values found in confs.\n",
    "        '''\n",
    "\n",
    "        # Define / initialize  variables\n",
    "        # used to replace max value found thus far\n",
    "        sentinelValue = -1 #C: constant time O(1)\n",
    "    \n",
    "        totalPositives = sum(true_label) #C: linear time O(n)\n",
    "        totalNegatives = len(true_label) - totalPositives #C: constant time O(1)\n",
    "        #print(true_label)  #C: linear time O(n)\n",
    "        truePositives = 0 #C: constant time O(1)\n",
    "        falsePositives = 0 #C: constant time O(1)\n",
    "        \n",
    "        # Hint: Consider Memory Management\n",
    "        \n",
    "        truePositiveRate = [] #C: constant time O(1)\n",
    "        falsePositiveRate = [] #C: constant time O(1)\n",
    "\n",
    "        #Hint: Although not explicitly clear, the loop structure below is an \n",
    "            #embeded loop ie, O(n^2) ... do you see why??\n",
    "        #Hint: If you sort the confidences first you can improve the iteration scheme.\n",
    "        \n",
    "        # Iterate over all relevant thresholds. Compute TPR and FPR for each and \n",
    "        # append to truePositiveRate , falsePositiveRate lists. \n",
    "\n",
    "        for i in range(len(confs)): #C: linear time O(n)\n",
    "            # Hint: the max method does NOT run in O(1)\n",
    "            maxVal = max(confs)  #C: linear time O(n), not used in computation\n",
    "            argMax = argmax(confs) #C: linear time O(n)\n",
    "            \n",
    "            confs[argMax] = sentinelValue #C: constant time O(1)\n",
    "            #print(argMax)\n",
    "            \n",
    "            if true_label[argMax]==1: #C: constant time O(1)\n",
    "                truePositives += 1 #C: constant time O(1)\n",
    "            else:\n",
    "                falsePositives += 1 #C: constant time O(1)\n",
    "\n",
    "            truePositiveRate.append(truePositives/totalPositives) #C: constant time O(1)\n",
    "            falsePositiveRate.append(falsePositives/totalNegatives) #C: constant time O(1)\n",
    "            #print(truePositiveRate)\n",
    "\n",
    "        # Plot FPR vs TPR for all possible thresholds \n",
    "#         plt.plot(falsePositiveRate,truePositiveRate, label ='class' + str(i) + ' to all')\n",
    "#         plt.legend()\n",
    "#         plt.xlabel('False Positive Rate')\n",
    "#         plt.ylabel('True Positive Rate')\n",
    "#         plt.show()\n"
   ]
  },
  {
   "cell_type": "code",
   "execution_count": 224,
   "metadata": {},
   "outputs": [],
   "source": [
    "def testComputeAllTPRs(numSamples):\n",
    "    confList = []\n",
    "    labels = [] \n",
    "    maxVal = 10000\n",
    "    #numSamples = 10000\n",
    "    start = time.perf_counter()\n",
    "    \n",
    "    for i in range(0,numSamples):\n",
    "        n = random.randint(1,maxVal)\n",
    "        confList.append(n/maxVal)\n",
    "        if n/maxVal > .5: \n",
    "            lab = 1 \n",
    "        else: \n",
    "            lab = 0\n",
    "        labels.append(lab)\n",
    "\n",
    "    computeAllTPRs(labels, confList)\n",
    "    # Print runtime using built in time() function \n",
    "    print(\"Run time of the original function is \", time.perf_counter() - start)\n"
   ]
  },
  {
   "cell_type": "code",
   "execution_count": 208,
   "metadata": {},
   "outputs": [
    {
     "name": "stdout",
     "output_type": "stream",
     "text": [
      "Run time of the original function is  9.4047020279977\n"
     ]
    }
   ],
   "source": [
    "testComputeAllTPRs(10000)"
   ]
  },
  {
   "cell_type": "markdown",
   "metadata": {
    "id": "J0aNsuFFMzLt"
   },
   "source": [
    "Below, provide your implementation for Question #2."
   ]
  },
  {
   "cell_type": "markdown",
   "metadata": {},
   "source": [
    "**Answer: in order to improve time complexity, the inputs `true_label` and `confs` are zipped and sorted before going into the loop, so that the highest confidence and corresponding label are always stored first. When iterating through the loop, first element is being checked like this `sorted_list[i][0] == 1`. This brings the worst case complexity down from O(n^3) to O(n) as there is only one pass through the sorted elements.**"
   ]
  },
  {
   "cell_type": "code",
   "execution_count": 209,
   "metadata": {},
   "outputs": [],
   "source": [
    "def computeAllTPRs_imporved(true_label, confs):\n",
    "    \n",
    "        '''\n",
    "        inputs:\n",
    "         - true_label: list of labels, assumed to be 0 or 1 (a two class problem)\n",
    "         - confs: list of confidences\n",
    "\n",
    "        This method zips and sorts intups computes the True Positive Rate (TPRs) and FPRs for all relevant\n",
    "        thresholds given true_label and confs. Relevant thresholds are considered\n",
    "        all different values found in confs.\n",
    "        '''\n",
    "\n",
    "        # Define / initialize  variables\n",
    "        totalPositives = sum(true_label) #C: linear time O(n)\n",
    "        totalNegatives = len(true_label) - totalPositives #C: constant time O(1)\n",
    "        truePositives = 0 #C: constant time O(1)\n",
    "        falsePositives = 0 #C: constant time O(1)\n",
    "        \n",
    "        # Hint: Consider Memory Management\n",
    "        truePositiveRate = [] #C: constant time O(1)\n",
    "        falsePositiveRate = [] #C: constant time O(1)\n",
    "\n",
    "        #Hint: If you sort the confidences first you can improve the iteration scheme.\n",
    "        sorted_list = sorted(list(zip(true_label, confs)), reverse=True) #C: linear time O(n) outside the loop\n",
    "        \n",
    "        # Iterate over all relevant thresholds. Compute TPR and FPR for each and \n",
    "        # append to truePositiveRate , falsePositiveRate lists. \n",
    "        for i in range(len(sorted_list)): #C: linear time O(n)\n",
    "            if sorted_list[i][0] == 1:\n",
    "                truePositives += 1 #C: constant time O(1)\n",
    "            else:\n",
    "                falsePositives += 1 #C: constant time O(1)\n",
    "                \n",
    "            truePositiveRate.append(truePositives/totalPositives) #C: constant time O(1)\n",
    "            falsePositiveRate.append(falsePositives/totalNegatives) #C: constant time O(1)\n",
    "            \n",
    "        # Plot FPR vs TPR for all possible thresholds \n",
    "#         plt.plot(falsePositiveRate,truePositiveRate, label ='class' + str(i) + ' to all')\n",
    "#         plt.legend()\n",
    "#         plt.xlabel('False Positive Rate')\n",
    "#         plt.ylabel('True Positive Rate')\n",
    "#         plt.show()"
   ]
  },
  {
   "cell_type": "markdown",
   "metadata": {
    "id": "lP72j3GqM6AH"
   },
   "source": [
    "Question #3. Below, provide your code which records and plots the runtime for the original and improved methods. "
   ]
  },
  {
   "cell_type": "markdown",
   "metadata": {},
   "source": [
    "**Answer: it is expected that the improved function will run in linear time compared to the original function that runs in cubic time, i.e. for 10 inputs it requires 1000 operations. For example, empirical runtime for 10,000 elements went down from 9.11 seconds to 0.03 seconds.**"
   ]
  },
  {
   "cell_type": "code",
   "execution_count": 213,
   "metadata": {},
   "outputs": [
    {
     "name": "stdout",
     "output_type": "stream",
     "text": [
      "Run time of the original function is  9.115647664002609\n"
     ]
    }
   ],
   "source": [
    "# Original function runtime:\n",
    "testComputeAllTPRs(10000)"
   ]
  },
  {
   "cell_type": "code",
   "execution_count": 225,
   "metadata": {},
   "outputs": [],
   "source": [
    "# Method to test the improved function\n",
    "def testComputeAllTPRs_improved(numSamples):\n",
    "    confList = []\n",
    "    labels = [] \n",
    "    maxVal = 10000\n",
    "    #numSamples = 10000\n",
    "    start = time.perf_counter()\n",
    "    \n",
    "    for i in range(0,numSamples):\n",
    "        n = random.randint(1,maxVal)\n",
    "        confList.append(n/maxVal)\n",
    "        if n/maxVal > .5: \n",
    "            lab = 1 \n",
    "        else: \n",
    "            lab = 0\n",
    "        labels.append(lab)\n",
    "\n",
    "    computeAllTPRs_imporved(labels, confList)\n",
    "    print(\"Run time of the improved function is \", time.perf_counter() - start)"
   ]
  },
  {
   "cell_type": "code",
   "execution_count": 215,
   "metadata": {},
   "outputs": [
    {
     "name": "stdout",
     "output_type": "stream",
     "text": [
      "Run time of the improved function is  0.02737151698966045\n"
     ]
    }
   ],
   "source": [
    "# Improved function runtime:\n",
    "testComputeAllTPRs_improved(10000)"
   ]
  },
  {
   "cell_type": "code",
   "execution_count": 226,
   "metadata": {},
   "outputs": [
    {
     "name": "stdout",
     "output_type": "stream",
     "text": [
      "Run time of the original function is  0.11551822999899741\n",
      "Run time of the improved function is  0.002185410005040467\n",
      "Run time of the original function is  0.09630915599700529\n",
      "Run time of the improved function is  0.0015620040067005903\n",
      "Run time of the original function is  0.10131932600052096\n",
      "Run time of the improved function is  0.0018013410008279607\n",
      "Run time of the original function is  0.10713088299962692\n",
      "Run time of the improved function is  0.0015865410096012056\n",
      "Run time of the original function is  0.09898569399956614\n",
      "Run time of the improved function is  0.00149782799417153\n",
      "Run time of the original function is  0.0961443669948494\n",
      "Run time of the improved function is  0.0015137320006033406\n",
      "Run time of the original function is  0.10715577300288714\n",
      "Run time of the improved function is  0.0016373910038964823\n",
      "Run time of the original function is  0.09890204299881589\n",
      "Run time of the improved function is  0.0018339559901505709\n",
      "Run time of the original function is  0.11315535500762053\n",
      "Run time of the improved function is  0.0021118489967193455\n",
      "Run time of the original function is  0.12362224199750926\n",
      "Run time of the improved function is  0.0016565580008318648\n"
     ]
    },
    {
     "data": {
      "text/plain": [
       "Text(0, 0.5, 'Runtime')"
      ]
     },
     "execution_count": 226,
     "metadata": {},
     "output_type": "execute_result"
    },
    {
     "data": {
      "image/png": "[encoded data removed]",
      "text/plain": [
       "<Figure size 432x288 with 1 Axes>"
      ]
     },
     "metadata": {
      "needs_background": "light"
     },
     "output_type": "display_data"
    }
   ],
   "source": [
    "## Record the time results\n",
    "originalTime = []\n",
    "sortedTime  = []\n",
    "\n",
    "size = 1000\n",
    "stepSize = 100\n",
    "## Calculate the time required by 2 methods\n",
    "for i in range(0, size, stepSize):\n",
    "    \n",
    "    ## Run the original function\n",
    "    start = time.perf_counter()\n",
    "    testComputeAllTPRs(size)\n",
    "    originalTime.append(time.perf_counter() - start)\n",
    "    \n",
    "    ## Run the improved function\n",
    "    start = time.perf_counter()\n",
    "    testComputeAllTPRs_improved(size)\n",
    "    sortedTime.append(time.perf_counter() - start)\n",
    "\n",
    "## Plot the results\n",
    "plt.plot(range(0, size, stepSize), originalTime, label = 'Original(unsorted)')\n",
    "plt.plot(range(0, size, stepSize), sortedTime, label = 'Imporved(sorted)')\n",
    "plt.legend(frameon = 'none')\n",
    "plt.title('Time Comparison of the original and sorted functions')\n",
    "plt.xlabel('Sample size')\n",
    "plt.ylabel('Runtime')\n"
   ]
  },
  {
   "cell_type": "markdown",
   "metadata": {},
   "source": [
    "**As shown above, the runtime of Improved (sorted) function remains constant, but the runtime of the Original (unsorted) tends to increase with the sample size.**"
   ]
  },
  {
   "cell_type": "code",
   "execution_count": null,
   "metadata": {},
   "outputs": [],
   "source": []
  }
 ],
 "metadata": {
  "colab": {
   "collapsed_sections": [],
   "name": "5012_HW2_sortFirst.ipynb",
   "provenance": []
  },
  "kernelspec": {
   "display_name": "Python 3",
   "language": "python",
   "name": "python3"
  },
  "language_info": {
   "codemirror_mode": {
    "name": "ipython",
    "version": 3
   },
   "file_extension": ".py",
   "mimetype": "text/x-python",
   "name": "python",
   "nbconvert_exporter": "python",
   "pygments_lexer": "ipython3",
   "version": "3.8.3"
  }
 },
 "nbformat": 4,
 "nbformat_minor": 4
}
