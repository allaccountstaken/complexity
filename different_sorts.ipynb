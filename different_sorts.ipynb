{
 "cells": [
  {
   "cell_type": "markdown",
   "metadata": {},
   "source": [
    "1. Bubble Sort (Group 1, 5, ...)\n",
    "1. Quick Sort (Group 2, 6, ...)\n",
    "1. Radix Sort (Group 3, 7, ...)\n",
    "1. Shell Sort (Group 4, 8, ...)\n",
    "\n",
    "The Task: Put together a short ( 8–10 minute) presentation for your assigned algorithm and include the following.  \n",
    "\n",
    "General description of the algorithm \n",
    "Demonstration: How it works (review code/algorithm) \n",
    "Advantages? \n",
    "Disadvantages? \n",
    "Can you think of ways to remedy any of these disadvantages?\n",
    "Complexity (in the worst case—that is Big-Oh!)\n",
    "Would you recommend this algorithm? Why or why not? \n",
    "Scenario in which you’d use this algorithm"
   ]
  },
  {
   "cell_type": "code",
   "execution_count": null,
   "metadata": {},
   "outputs": [],
   "source": []
  }
 ],
 "metadata": {
  "kernelspec": {
   "display_name": "Python 3",
   "language": "python",
   "name": "python3"
  },
  "language_info": {
   "codemirror_mode": {
    "name": "ipython",
    "version": 3
   },
   "file_extension": ".py",
   "mimetype": "text/x-python",
   "name": "python",
   "nbconvert_exporter": "python",
   "pygments_lexer": "ipython3",
   "version": "3.8.3"
  }
 },
 "nbformat": 4,
 "nbformat_minor": 4
}
