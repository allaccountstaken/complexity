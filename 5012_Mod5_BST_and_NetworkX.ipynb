{
 "cells": [
  {
   "cell_type": "markdown",
   "metadata": {
    "id": "dJIXJaAEu3fS"
   },
   "source": [
    "# Binary Search Tree. HW 5.4\n",
    "\n",
    "Last Updated: June 10, 2022\n",
    "\n",
    "**INSTRUCTIONS**\n",
    "\n",
    "Below is code for a Binary Search Tree Class. Seven of the methods in this implementation are incomplete (vacuous): `find`, `size`, `preorder`, `inorder`, `postorder`, \\_\\_str\\_\\_ and `height`. It is your task to complete them. Use the testing code to test and confirm your implementation. Submit the completed notebook file (BOTH the .ipynb and a rendered .html).\n",
    "\n",
    "**Note:** Finding the height of a binary tree is a common tech interview question.\n",
    "\n",
    "**POINT VALUES: (TOTAL=10)**  \n",
    "\n",
    "| method| points |\n",
    "| :----| ---- |\n",
    "| find | 2   |\n",
    "| size | 1   |\n",
    "| inorder | 2   |\n",
    "| preorder | 1   |\n",
    "| postorder | 1   |\n",
    "| str | 2   |\n",
    "| height | 1  |"
   ]
  },
  {
   "cell_type": "markdown",
   "metadata": {
    "id": "qpP8DA3KuwrN"
   },
   "source": [
    "---\n",
    "\n",
    "**ABOUT THE CLASSES**\n",
    "\n",
    "The `Node` class describes the structure of a node in the tree: each node has a data item and can have a left and right child. \n",
    "\n",
    "The `BinarySearchTree` class is responsible for tree-level methods such as `buildBST`, inserting a data value in the right place/node in the BST tree (we populate the tree given a list data values through main), and the tree traversal methods.\n",
    "\n",
    "---"
   ]
  },
  {
   "cell_type": "code",
   "execution_count": 627,
   "metadata": {
    "id": "WjWSpaVdu3X6"
   },
   "outputs": [],
   "source": [
    "# -*- coding: utf-8 -*-\n",
    "\"\"\"\n",
    "Binary Search Tree\n",
    "Plus tree traversal methods \n",
    "\n",
    "NOTE: I placed return statements immediately after the function declarations so \n",
    "you can run the code and see the print statments before beginning the assignment. \n",
    "HOWEVER ... You will need to move the return statements to the end of the functions\n",
    "once you complete each function implementation :)\n",
    "\"\"\"\n",
    "import matplotlib.pyplot as plt\n",
    "import networkx as nx\n",
    "\n",
    "class Node:\n",
    "    \n",
    "    def __init__(self, data): # Constructor of Node class\n",
    "        # A node has a data value, a left child node and a right child node\n",
    "        self.data = data  #data item\n",
    "        self.left = None  #left child, initially empty\n",
    "        self.right = None #right child, initially empty\n",
    "\n",
    "\n",
    "    def __str__(self): # Printing a node\n",
    "\n",
    "          return str(self.data) #return as string\n",
    "\n",
    "# ===================================================================\n",
    "# ===================================================================\n",
    "\n",
    "class BinarySearchTree:\n",
    "\n",
    "    def __init__(self): # Constructor of BinarySearchTree class\n",
    "\n",
    "        self.root = None  # Initially, an empty root node\n",
    "\n",
    "# ===================================================================\n",
    "    def buildBST(self, val):  # Build (\"create\") a binary search tree         \n",
    "        if self.root == None:\n",
    "            self.root = Node(val)\n",
    "        else:\n",
    "            current = self.root            \n",
    "            while 1:\n",
    "                if val < current.data:\n",
    "                    if current.left:\n",
    "                        current = current.left  # Go left...                   \n",
    "                    else:\n",
    "                        current.left = Node(val)  # Left child is empty; place value here\n",
    "                        break;                \n",
    "                elif val > current.data:\n",
    "                    if current.right:\n",
    "                        current = current.right  # Go right...                    \n",
    "                    else:\n",
    "                        current.right = Node(val)  # Right child is empty; place value here\n",
    "                        break;\n",
    "                else:\n",
    "                    break \n",
    "\n",
    "# ===================================================================\n",
    "      \n",
    "    def find(self, target):   # Find a node with the 'target' value in the BST\n",
    "        \n",
    "        '''\n",
    "      returns true if found, false otherwise\n",
    "        '''\n",
    "        if self.root == None: # empty tree -- nothing can be found\n",
    "            return False\n",
    "        else: # non-empty tree -- at least the root is present\n",
    "            current = self.root # put the marker at the root\n",
    "        while 1:\n",
    "            if target < current.data: # looking for something smaller that the root\n",
    "                if current.left: # if left child is present\n",
    "                    current = current.left # move the marker to the left child\n",
    "            else:\n",
    "                print(\"no left child, target not in the tree\")\n",
    "                return False\n",
    "            \n",
    "            if target > current.data: # looking for something greater than the root\n",
    "                if current.right: # check if right child is present\n",
    "                    current = current.right # move the marker to the right\n",
    "                else:\n",
    "                    print(\"no right child, target not in the tree\")\n",
    "                    return False\n",
    "            else: # the only other option is that target == current.data already\n",
    "                return True\n",
    "    \n",
    "# ===================================================================\n",
    "    def size(self, node):  # Counts the number of nodes in the BST\n",
    "        '''\n",
    "          returns number of nodes\n",
    "        '''\n",
    "    \n",
    "        if node == None: # empty tree with size 0\n",
    "            return 0\n",
    "        else: # non-empty tree -- at least the root is present\n",
    "            return 1 + self.size(node.left) + self.size(node.right)\n",
    "\n",
    "# ===================================================================\n",
    "    def inorder(self, root):  # Performing in-order tree traversal\n",
    "        '''\n",
    "          prints values as encountered inorder\n",
    "          (Source: ttps://www.tutorialspoint.com/python_data_structure/python_tree_traversal_algorithms.htm)\n",
    "        '''       \n",
    "        output_list = []\n",
    "        if root != None:\n",
    "            output_list = self.inorder(root.left)\n",
    "            output_list.append(root.data)\n",
    "            output_list = output_list + self.inorder(root.right)\n",
    "        return output_list\n",
    "    \n",
    "        \n",
    "\n",
    "# Better method https://www.tutorialspoint.com/python_data_structure/python_tree_traversal_algorithms.htm        \n",
    "#     def inorderTraversal(self, root):\n",
    "#             res = []\n",
    "#             if root:\n",
    "#                 res = self.inorderTraversal(root.left)\n",
    "#                 res.append(root.data)\n",
    "#                 res = res + self.inorderTraversal(root.right)\n",
    "#             return res\n",
    "            \n",
    "            \n",
    "  \n",
    "\n",
    "    # ===================================================================\n",
    "    def preorder(self, root): # Performing pre-order tree traversal\n",
    "        '''\n",
    "          prints values as encountered preorder\n",
    "        '''\n",
    "        output_list = []\n",
    "        if root != None:\n",
    "            output_list.append(root.data)\n",
    "            output_list = output_list + self.preorder(root.left)\n",
    "            output_list = output_list + self.preorder(root.right)\n",
    "        return output_list\n",
    "        \n",
    "#     def PreorderTraversal(self, root):\n",
    "#         res = []\n",
    "#         if root:\n",
    "#             res.append(root.data)\n",
    "#             res = res + self.PreorderTraversal(root.left)\n",
    "#             res = res + self.PreorderTraversal(root.right)\n",
    "#         return res\n",
    "    \n",
    "\n",
    "# ===================================================================\n",
    "    def postorder(self, root):  # Performing post-order tree traversal\n",
    "        '''\n",
    "          prints values as encountered postorder\n",
    "        '''            \n",
    "        output_list = []\n",
    "        if root != None:\n",
    "            output_list = self.postorder(root.left)\n",
    "            output_list = output_list + self.postorder(root.right)\n",
    "            output_list.append(root.data)\n",
    "        return output_list\n",
    "\n",
    "#     def PostorderTraversal(self, root):\n",
    "#         res = []\n",
    "#         if root:\n",
    "#             res = self.PostorderTraversal(root.left)\n",
    "#             res = res + self.PostorderTraversal(root.right)\n",
    "#             res.append(root.data)\n",
    "#         return res\n",
    "    \n",
    "        \n",
    "# ===================================================================\n",
    "    def __str__(self): return \"See Graph Diagram in Figure\\n\"  \n",
    "    '''\n",
    "        Builds networkx visualization of the BST\n",
    "\n",
    "        The purpose of this method is to render a visualization of a constructed BST\n",
    "        Tree to confirm correctness. \n",
    "\n",
    "        Hint: To complete this you will need to create a node list, edge list, and/or \n",
    "        an adjacency matrix. You can then easily construct a graph visualization using networkx.\n",
    "        \n",
    "        Slightly alter one of your traversal methods (or the buildBST method) \n",
    "        above so that the appropriate structure(s) is constructed and saved as \n",
    "        an attribute(s) to the BST class, eg, edgeList.\n",
    "\n",
    "        Hint: Use a directed graph (DiGraph) so you can more easily \n",
    "        identify the root, leaf, and internal nodes. The standard networkx method \n",
    "        draw will suffice. It will render the tree as a standard graph (ie no clear root),\n",
    "        but you can determine which node is the root if you use a DiGraph. \n",
    "\n",
    "        Once the graph is constructed, a plot is created. \n",
    "    '''\n",
    "\n",
    "      # Revisit previous exercises and examples using Networkx to help!\n",
    "      # See docs here to help https://networkx.org/documentation/stable/tutorial.html\n",
    "      # Insert Code to diplay figure here\n",
    "             \n",
    "# ===================================================================            \n",
    "    def height(self, node):   # Performing post-order tree traversal\n",
    "        # create the counter and count how many steps in the left branch\n",
    "        if node is None:\n",
    "            return 0\n",
    "    \n",
    "        left_height = self.height(node.left)\n",
    "        right_height = self.height(node.right)\n",
    "    \n",
    "        return max(left_height, right_height) + 1\n",
    "\n",
    "# ===================================================================\n"
   ]
  },
  {
   "cell_type": "code",
   "execution_count": 628,
   "metadata": {},
   "outputs": [],
   "source": [
    "tree = BinarySearchTree()    \n",
    "treeEmpty = BinarySearchTree()  # Empty tree\n",
    "\n",
    "arr = [8,3,1,6,4,7,10,14,13]    # Array of nodes (data items)\n",
    "for i in arr:                   # For each data item, build the Binary Search Tree\n",
    "    tree.buildBST(i)"
   ]
  },
  {
   "cell_type": "code",
   "execution_count": 629,
   "metadata": {},
   "outputs": [
    {
     "data": {
      "text/plain": [
       "[1, 3, 4, 6, 7, 8, 10, 13, 14]"
      ]
     },
     "execution_count": 629,
     "metadata": {},
     "output_type": "execute_result"
    }
   ],
   "source": [
    "tree.inorder(tree.root)"
   ]
  },
  {
   "cell_type": "code",
   "execution_count": 626,
   "metadata": {},
   "outputs": [
    {
     "data": {
      "text/plain": [
       "[1, 4, 7, 6, 3, 13, 14, 10, 8]"
      ]
     },
     "execution_count": 626,
     "metadata": {},
     "output_type": "execute_result"
    }
   ],
   "source": [
    "tree.postorder(tree.root)"
   ]
  },
  {
   "cell_type": "code",
   "execution_count": 631,
   "metadata": {},
   "outputs": [
    {
     "data": {
      "text/plain": [
       "[8, 3, 1, 6, 4, 7, 10, 14, 13]"
      ]
     },
     "execution_count": 631,
     "metadata": {},
     "output_type": "execute_result"
    }
   ],
   "source": [
    "tree.PreorderTraversal(tree.root)"
   ]
  },
  {
   "cell_type": "code",
   "execution_count": 632,
   "metadata": {},
   "outputs": [
    {
     "data": {
      "text/plain": [
       "[8, 3, 1, 6, 4, 7, 10, 14, 13]"
      ]
     },
     "execution_count": 632,
     "metadata": {},
     "output_type": "execute_result"
    }
   ],
   "source": [
    "tree.preorder(tree.root)"
   ]
  },
  {
   "cell_type": "code",
   "execution_count": 567,
   "metadata": {},
   "outputs": [
    {
     "name": "stdout",
     "output_type": "stream",
     "text": [
      "What's the size of the tree?\n",
      "4\n"
     ]
    }
   ],
   "source": [
    "print('What\\'s the size of the tree?')\n",
    "print(tree.height(tree.root))"
   ]
  },
  {
   "cell_type": "code",
   "execution_count": 568,
   "metadata": {},
   "outputs": [
    {
     "data": {
      "text/plain": [
       "9"
      ]
     },
     "execution_count": 568,
     "metadata": {},
     "output_type": "execute_result"
    }
   ],
   "source": [
    "tree.size(tree.root)"
   ]
  },
  {
   "cell_type": "code",
   "execution_count": null,
   "metadata": {},
   "outputs": [],
   "source": []
  },
  {
   "cell_type": "code",
   "execution_count": null,
   "metadata": {},
   "outputs": [],
   "source": []
  },
  {
   "cell_type": "code",
   "execution_count": null,
   "metadata": {},
   "outputs": [],
   "source": []
  },
  {
   "cell_type": "code",
   "execution_count": 593,
   "metadata": {},
   "outputs": [
    {
     "name": "stdout",
     "output_type": "stream",
     "text": [
      "What's the size of the tree?\n",
      "0\n"
     ]
    }
   ],
   "source": [
    "print('What\\'s the size of the tree?')\n",
    "print(treeEmpty.size(treeEmpty.root))"
   ]
  },
  {
   "cell_type": "code",
   "execution_count": 92,
   "metadata": {
    "colab": {
     "base_uri": "https://localhost:8080/"
    },
    "id": "xMczZGF-_bw9",
    "outputId": "35ad5c15-e133-4e12-df5b-7b8319da6c5b"
   },
   "outputs": [
    {
     "name": "stdout",
     "output_type": "stream",
     "text": [
      "What's the size of the tree?\n",
      "None\n",
      "What's the size of the tree?\n",
      "None\n",
      "\n",
      "In-order Tree Traversal:\n"
     ]
    },
    {
     "ename": "AttributeError",
     "evalue": "'BinarySearchTree' object has no attribute 'left'",
     "output_type": "error",
     "traceback": [
      "\u001b[0;31m---------------------------------------------------------------------------\u001b[0m",
      "\u001b[0;31mAttributeError\u001b[0m                            Traceback (most recent call last)",
      "\u001b[0;32m<ipython-input-92-8a9561f965e3>\u001b[0m in \u001b[0;36m<module>\u001b[0;34m\u001b[0m\n\u001b[1;32m     18\u001b[0m \u001b[0mprint\u001b[0m\u001b[0;34m(\u001b[0m\u001b[0;34m\"\"\u001b[0m\u001b[0;34m)\u001b[0m\u001b[0;34m\u001b[0m\u001b[0;34m\u001b[0m\u001b[0m\n\u001b[1;32m     19\u001b[0m \u001b[0mprint\u001b[0m \u001b[0;34m(\u001b[0m\u001b[0;34m'In-order Tree Traversal:'\u001b[0m\u001b[0;34m)\u001b[0m\u001b[0;34m\u001b[0m\u001b[0;34m\u001b[0m\u001b[0m\n\u001b[0;32m---> 20\u001b[0;31m \u001b[0mtree\u001b[0m\u001b[0;34m.\u001b[0m\u001b[0minorder\u001b[0m\u001b[0;34m(\u001b[0m\u001b[0mtree\u001b[0m\u001b[0;34m.\u001b[0m\u001b[0mroot\u001b[0m\u001b[0;34m)\u001b[0m         \u001b[0;31m# Perform in-order tree traversal, and print\u001b[0m\u001b[0;34m\u001b[0m\u001b[0;34m\u001b[0m\u001b[0m\n\u001b[0m\u001b[1;32m     21\u001b[0m \u001b[0;34m\u001b[0m\u001b[0m\n\u001b[1;32m     22\u001b[0m \u001b[0mprint\u001b[0m\u001b[0;34m(\u001b[0m\u001b[0;34m\"\"\u001b[0m\u001b[0;34m)\u001b[0m\u001b[0;34m\u001b[0m\u001b[0;34m\u001b[0m\u001b[0m\n",
      "\u001b[0;32m<ipython-input-85-675a712c7566>\u001b[0m in \u001b[0;36minorder\u001b[0;34m(self, node)\u001b[0m\n\u001b[1;32m     94\u001b[0m \u001b[0;34m\u001b[0m\u001b[0m\n\u001b[1;32m     95\u001b[0m         \u001b[0;31m#def inorder(self, vals):\u001b[0m\u001b[0;34m\u001b[0m\u001b[0;34m\u001b[0m\u001b[0;34m\u001b[0m\u001b[0m\n\u001b[0;32m---> 96\u001b[0;31m         \u001b[0;32mif\u001b[0m \u001b[0mself\u001b[0m\u001b[0;34m.\u001b[0m\u001b[0mleft\u001b[0m \u001b[0;32mis\u001b[0m \u001b[0;32mnot\u001b[0m \u001b[0;32mNone\u001b[0m\u001b[0;34m:\u001b[0m\u001b[0;34m\u001b[0m\u001b[0;34m\u001b[0m\u001b[0m\n\u001b[0m\u001b[1;32m     97\u001b[0m             \u001b[0mself\u001b[0m\u001b[0;34m.\u001b[0m\u001b[0mleft\u001b[0m\u001b[0;34m.\u001b[0m\u001b[0minorder\u001b[0m\u001b[0;34m(\u001b[0m\u001b[0mnode\u001b[0m\u001b[0;34m)\u001b[0m\u001b[0;34m\u001b[0m\u001b[0;34m\u001b[0m\u001b[0m\n\u001b[1;32m     98\u001b[0m         \u001b[0;32mif\u001b[0m \u001b[0mself\u001b[0m\u001b[0;34m.\u001b[0m\u001b[0mroot\u001b[0m \u001b[0;32mis\u001b[0m \u001b[0;32mnot\u001b[0m \u001b[0;32mNone\u001b[0m\u001b[0;34m:\u001b[0m\u001b[0;34m\u001b[0m\u001b[0;34m\u001b[0m\u001b[0m\n",
      "\u001b[0;31mAttributeError\u001b[0m: 'BinarySearchTree' object has no attribute 'left'"
     ]
    }
   ],
   "source": [
    "##################                  \n",
    "## Testing Code ##\n",
    "##################                        \n",
    "                        \n",
    "tree = BinarySearchTree()    \n",
    "treeEmpty = BinarySearchTree()  # Empty tree\n",
    "\n",
    "arr = [8,3,1,6,4,7,10,14,13]    # Array of nodes (data items)\n",
    "for i in arr:                   # For each data item, build the Binary Search Tree\n",
    "    tree.buildBST(i)\n",
    "\n",
    "print('What\\'s the size of the tree?')\n",
    "print(tree.size(tree.root))     # size method\n",
    "\n",
    "print('What\\'s the size of the tree?')\n",
    "print(treeEmpty.size(treeEmpty.root))\n",
    "\n",
    "print(\"\") \n",
    "print ('In-order Tree Traversal:')\n",
    "tree.inorder(tree.root)         # Perform in-order tree traversal, and print\n",
    " \n",
    "print(\"\") \n",
    "print ('Pre-order Tree Traversal:')\n",
    "tree.preorder(tree.root)        # Perform pre-order tree traversal, and print\n",
    "\n",
    "print(\"\")\n",
    "print ('Post-order Tree Traversal:')\n",
    "tree.postorder(tree.root)       # Perform post-order tree traversal, and print\n",
    "\n",
    "print(\"\")\n",
    "print ('Find 7:', end=\" \")      # find method\n",
    "print(tree.find(7))\n",
    "\n",
    "print('Find 5:', end=\" \")\n",
    "print(tree.find(5))\n",
    "\n",
    "print('Find 30:', end=\" \")\n",
    "print(tree.find(30))\n",
    "\n",
    "print(\"\")\n",
    "print(\"\")\n",
    "print ('Display Figure of Tree:')\n",
    "print(tree) \n",
    "\n",
    "print(\"\")\n",
    "print('Height of the Tree:')\n",
    "print(tree.height(tree.root))"
   ]
  },
  {
   "cell_type": "code",
   "execution_count": null,
   "metadata": {},
   "outputs": [],
   "source": []
  }
 ],
 "metadata": {
  "colab": {
   "collapsed_sections": [],
   "name": "BST_and_NetworkX.ipynb",
   "provenance": []
  },
  "kernelspec": {
   "display_name": "Python 3",
   "language": "python",
   "name": "python3"
  },
  "language_info": {
   "codemirror_mode": {
    "name": "ipython",
    "version": 3
   },
   "file_extension": ".py",
   "mimetype": "text/x-python",
   "name": "python",
   "nbconvert_exporter": "python",
   "pygments_lexer": "ipython3",
   "version": "3.8.3"
  }
 },
 "nbformat": 4,
 "nbformat_minor": 4
}
