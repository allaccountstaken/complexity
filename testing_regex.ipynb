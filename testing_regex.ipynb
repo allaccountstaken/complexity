{
 "cells": [
  {
   "cell_type": "code",
   "execution_count": 53,
   "metadata": {},
   "outputs": [],
   "source": [
    "import re"
   ]
  },
  {
   "cell_type": "raw",
   "metadata": {},
   "source": [
    "\\w                //alpha-numeric only\n",
    "[a-zA-Z]          //literals only\n",
    "\\d                //digits only\n",
    "[a-z]             //lowercase literal only\n",
    "[A-Z]             //uppercase literal only\n",
    "^(\\d+)$.          // simple number only\n",
    "^(\\w*)$ \n",
    "^([a-zA-Z0-9._%-]+@[a-zA-Z0-9.-]+\\.[a-zA-Z]{2,6})*$\n",
    "\\b[\\w.!#$%&’*+\\/=?^`{|}~-]+@[\\w-]+(?:\\.[\\w-]+)*\\b       // valid email address"
   ]
  },
  {
   "cell_type": "code",
   "execution_count": 72,
   "metadata": {},
   "outputs": [],
   "source": [
    "regex = r\"a|b\"\n",
    "test_str = (\"666@tt.com !hgh@#rr.r.r abc ac acb aob a2b a42c 5 8.7\\n\")\n",
    "matches = re.finditer(regex, test_str)\n",
    "\n",
    "# Notes:\n",
    "# https://medium.com/factory-mind/regex-tutorial-a-simple-cheatsheet-by-examples-649dc1c3f285\n",
    "# https://medium.com/@fox.jonny/regex-cookbook-most-wanted-regex-aa721558c3c1"
   ]
  },
  {
   "cell_type": "code",
   "execution_count": 73,
   "metadata": {},
   "outputs": [
    {
     "name": "stdout",
     "output_type": "stream",
     "text": [
      "Match 1 was found at 24-25: a\n",
      "Match 2 was found at 25-26: b\n",
      "Match 3 was found at 28-29: a\n",
      "Match 4 was found at 31-32: a\n",
      "Match 5 was found at 33-34: b\n",
      "Match 6 was found at 35-36: a\n",
      "Match 7 was found at 37-38: b\n",
      "Match 8 was found at 39-40: a\n",
      "Match 9 was found at 41-42: b\n",
      "Match 10 was found at 43-44: a\n"
     ]
    }
   ],
   "source": [
    "for matchNum, match in enumerate(matches, start=1):\n",
    "    \n",
    "    print (\"Match {matchNum} was found at {start}-{end}: {match}\".format(\n",
    "        matchNum = matchNum, start = match.start(), end = match.end(), match = match.group()))    \n",
    "    for groupNum in range(0, len(match.groups())):\n",
    "        groupNum = groupNum + 1     \n",
    "        print (\"Group {groupNum} found at {start}-{end}: {group}\".format(\n",
    "            groupNum = groupNum, start = match.start(groupNum), end = match.end(groupNum), group = match.group(groupNum)))\n"
   ]
  },
  {
   "cell_type": "code",
   "execution_count": 88,
   "metadata": {},
   "outputs": [
    {
     "data": {
      "text/plain": [
       "[]"
      ]
     },
     "execution_count": 88,
     "metadata": {},
     "output_type": "execute_result"
    }
   ],
   "source": [
    "import re\n",
    "r = r\"/a(ab)*a/\"\n",
    "\n",
    "s = \"abababa aaba aabbaa aba aabababa\"\n",
    "matches = re.finditer(r, s)\n",
    "list(matches)"
   ]
  },
  {
   "cell_type": "code",
   "execution_count": 89,
   "metadata": {},
   "outputs": [],
   "source": [
    "for matchNum, match in enumerate(matches, start=1):\n",
    "    \n",
    "    print (\"Match {matchNum} was found at {start}-{end}: {match}\".format(\n",
    "        matchNum = matchNum, start = match.start(), end = match.end(), match = match.group()))    \n",
    "    for groupNum in range(0, len(match.groups())):\n",
    "        groupNum = groupNum + 1     \n",
    "        print (\"Group {groupNum} found at {start}-{end}: {group}\".format(\n",
    "            groupNum = groupNum, start = match.start(groupNum), end = match.end(groupNum), group = match.group(groupNum)))\n"
   ]
  },
  {
   "cell_type": "code",
   "execution_count": null,
   "metadata": {},
   "outputs": [],
   "source": []
  },
  {
   "cell_type": "code",
   "execution_count": null,
   "metadata": {},
   "outputs": [],
   "source": []
  }
 ],
 "metadata": {
  "kernelspec": {
   "display_name": "Python 3",
   "language": "python",
   "name": "python3"
  },
  "language_info": {
   "codemirror_mode": {
    "name": "ipython",
    "version": 3
   },
   "file_extension": ".py",
   "mimetype": "text/x-python",
   "name": "python",
   "nbconvert_exporter": "python",
   "pygments_lexer": "ipython3",
   "version": "3.8.3"
  }
 },
 "nbformat": 4,
 "nbformat_minor": 4
}
