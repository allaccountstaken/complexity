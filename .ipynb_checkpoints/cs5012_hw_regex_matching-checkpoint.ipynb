{
 "cells": [
  {
   "cell_type": "markdown",
   "metadata": {},
   "source": [
    "## Homework: Regular Expressions\n",
    "\n",
    "\n",
    "### University of Virginia\n",
    "### Foundations of Computer Science\n",
    "### Last Updated: November 13, 2021\n",
    "---"
   ]
  },
  {
   "cell_type": "markdown",
   "metadata": {},
   "source": [
    "### Objectives: \n",
    "- Practice writing and testing regular expressions\n",
    "\n",
    "### Executive Summary\n",
    "\n",
    "\n",
    "There are two short text documents in this notebook. You will write regular expressions to find certain patterns.  \n",
    "\n",
    "Note: This website is a helpful resource for writing and testing regexes: [regex101](https://regex101.com/)"
   ]
  },
  {
   "cell_type": "markdown",
   "metadata": {},
   "source": [
    "### Instructions\n",
    "\n",
    "Answer the questions, showing all code and results.  \n",
    "When the file is completed, submit the notebook through Collab.\n",
    "\n",
    "**Notes:**  \n",
    "1) When instructions ask for a case insensitive match on a word or phrase, any mix of uppercase and lowercase characters are a match.  \n",
    "2) The regexes do not need to be robust generally. They simply need to find all the matches in the documents. For example, when matching dollar amounts,  \n",
    "   the regex does not need to guard against matching invald forms such as $61,0 as they are not in the documents. \n",
    "\n",
    "**TOTAL POINTS: 12**\n",
    "\n",
    "---\n"
   ]
  },
  {
   "cell_type": "code",
   "execution_count": 574,
   "metadata": {},
   "outputs": [],
   "source": [
    "import re"
   ]
  },
  {
   "cell_type": "markdown",
   "metadata": {},
   "source": [
    "#### DOCUMENTS FOR SEARCH"
   ]
  },
  {
   "cell_type": "code",
   "execution_count": 4,
   "metadata": {},
   "outputs": [],
   "source": [
    "doc1 = \"(CNN) This is an article about America's Workers. Getting family health insurance on the job now costs workers and their employers more than $22,000 a year, on average. And companies have not been able to do much to make coverage more affordable, even though the coronavirus pandemic has reinforced the importance of health benefits.\\\n",
    "Employees foot about $6,000 of the tab, while companies pick up the rest, according to the 2021 Kaiser Family Foundation Employer Health Benefits Survey. The report, released Wednesday, found that the average annual premium rose 4% this year to $22,221.\\\n",
    "The average annual premium for a single staffer in 2021 hit $7,739, also up 4%. Workers pay about $1,300, and employers cover the remaining tab.\\\n",
    "About 155 million Americans rely on employer-sponsored coverage -- and they are paying a lot more for that benefit than they were a decade ago. The average family premium has increased 47%, more than wages or inflation, which rose 31% and 19%, respectively, Kaiser found.\\\n",
    "The average count is 21,000.\""
   ]
  },
  {
   "cell_type": "code",
   "execution_count": 5,
   "metadata": {},
   "outputs": [],
   "source": [
    "doc2 = \"Curry reacts in the second half against the Chicago Bulls. (CNN)It seems every week NBA superstar Steph Curry is making history.\\\n",
    "Earlier this week, he overtook Wilt Chamberlain to become the oldest player to record 50 points and 10 assists in a game.\\\n",
    "And on Friday night, the 33-year-old passed basketball great Ray Allen for the most three-pointers scored in all NBA games, including playoffs, in NBA history.\\\n",
    "Curry connected with nine of his 17 three-point attempts in the Golden State Warriors' 119-93 win over the Chicago Bulls, taking his tally in regular season and playoff games to 3,366, surpassing Allen's total of 3,358.\\\n",
    "He had come into the game just one behind two-time NBA champion Allen and equaled his record within the first few minutes of the game.\\\n",
    "And he became the all-time lead just minutes later, drilling a long-range effort over Alex Caruso.\""
   ]
  },
  {
   "cell_type": "markdown",
   "metadata": {},
   "source": [
    "---"
   ]
  },
  {
   "cell_type": "markdown",
   "metadata": {},
   "source": [
    "#### 1) (1 POINT) Search *doc1* for the word 'family', print the matches, and print the number of matches."
   ]
  },
  {
   "cell_type": "code",
   "execution_count": 575,
   "metadata": {},
   "outputs": [],
   "source": [
    "q1 = r\"family\"\n",
    "matches = re.finditer(q1, doc1)"
   ]
  },
  {
   "cell_type": "code",
   "execution_count": 576,
   "metadata": {},
   "outputs": [
    {
     "name": "stdout",
     "output_type": "stream",
     "text": [
      "(0, <re.Match object; span=(58, 64), match='family'>)\n",
      "(1, <re.Match object; span=(886, 892), match='family'>)\n"
     ]
    }
   ],
   "source": [
    "for match in enumerate(matches):\n",
    "    print(match)"
   ]
  },
  {
   "cell_type": "code",
   "execution_count": 577,
   "metadata": {},
   "outputs": [
    {
     "name": "stdout",
     "output_type": "stream",
     "text": [
      "The number of matches is 2\n"
     ]
    }
   ],
   "source": [
    "print(\"The number of matches is\", len(list(re.finditer(q1, doc1))))"
   ]
  },
  {
   "cell_type": "markdown",
   "metadata": {},
   "source": [
    "#### 2) (2 POINTS) Search *doc1* for the first occurrence of the word \"workers\" (case insensitive).  \n",
    "####    If it finds a match, use the start() and end() methods to extract the match from the document, printing the result."
   ]
  },
  {
   "cell_type": "code",
   "execution_count": 578,
   "metadata": {},
   "outputs": [
    {
     "name": "stdout",
     "output_type": "stream",
     "text": [
      "(0, <re.Match object; span=(41, 48), match='Workers'>)\n",
      "(1, <re.Match object; span=(103, 110), match='workers'>)\n",
      "(2, <re.Match object; span=(666, 673), match='Workers'>)\n"
     ]
    }
   ],
   "source": [
    "q2 = r\"(?i)workers\"\n",
    "matches = re.finditer(q2, doc1)\n",
    "for match in enumerate(matches):\n",
    "    print(match)"
   ]
  },
  {
   "cell_type": "code",
   "execution_count": 579,
   "metadata": {},
   "outputs": [
    {
     "name": "stdout",
     "output_type": "stream",
     "text": [
      "Found the first case insensitive match at position: 41 48 -- found: Workers\n"
     ]
    }
   ],
   "source": [
    "search_pattern = re.search(q2,doc1)\n",
    " \n",
    "start = search_pattern.start()\n",
    "end= search_pattern.end()\n",
    "\n",
    "print(\"Found the first case insensitive match at position:\", start, end, \"-- found:\", doc1[start:end])\n"
   ]
  },
  {
   "cell_type": "markdown",
   "metadata": {},
   "source": [
    "#### 3) (1 POINT) Search *doc1* for the word 'family' (case insensitive), print the matches, and print the number of matches."
   ]
  },
  {
   "cell_type": "code",
   "execution_count": 580,
   "metadata": {},
   "outputs": [
    {
     "name": "stdout",
     "output_type": "stream",
     "text": [
      "(0, <re.Match object; span=(58, 64), match='family'>)\n",
      "(1, <re.Match object; span=(436, 442), match='Family'>)\n",
      "(2, <re.Match object; span=(886, 892), match='family'>)\n"
     ]
    }
   ],
   "source": [
    "q3 = r\"(?i)family\"\n",
    "matches = re.finditer(q3, doc1)\n",
    "for match in enumerate(matches):\n",
    "    print(match)"
   ]
  },
  {
   "cell_type": "code",
   "execution_count": 581,
   "metadata": {},
   "outputs": [
    {
     "name": "stdout",
     "output_type": "stream",
     "text": [
      "The number of matches is 3\n"
     ]
    }
   ],
   "source": [
    "print(\"The number of matches is\", len(list(re.finditer(q3, doc1))))"
   ]
  },
  {
   "cell_type": "markdown",
   "metadata": {},
   "source": [
    "#### 4) (1 POINT) Search *doc1* for dollar amounts, print the matches, and print the number of matches. Dollar amounts start with \"$\" followed by digits and possibly commas.\n",
    "\n",
    "Note: \"$\" will have different meanings in a regex, so take care to use it properly in this context."
   ]
  },
  {
   "cell_type": "code",
   "execution_count": 582,
   "metadata": {},
   "outputs": [
    {
     "name": "stdout",
     "output_type": "stream",
     "text": [
      "(0, <re.Match object; span=(141, 148), match='$22,000'>)\n",
      "(1, <re.Match object; span=(354, 360), match='$6,000'>)\n",
      "(2, <re.Match object; span=(578, 585), match='$22,221'>)\n",
      "(3, <re.Match object; span=(646, 652), match='$7,739'>)\n",
      "(4, <re.Match object; span=(684, 690), match='$1,300'>)\n"
     ]
    }
   ],
   "source": [
    "q4 = \"\\$\\d+(?:\\,\\d+)?\"\n",
    "matches = re.finditer(q4, doc1)\n",
    "for match in enumerate(matches):\n",
    "    print(match)"
   ]
  },
  {
   "cell_type": "code",
   "execution_count": 583,
   "metadata": {},
   "outputs": [
    {
     "name": "stdout",
     "output_type": "stream",
     "text": [
      "The number of matches is 5\n"
     ]
    }
   ],
   "source": [
    "print(\"The number of matches is\", len(list(re.finditer(q4, doc1))))"
   ]
  },
  {
   "cell_type": "markdown",
   "metadata": {},
   "source": [
    "#### 5) (2 POINTS) Search *doc1* for numbers that are not percentages nor dollar amounts. Print the matches, and print the number of matches.\n",
    "\n",
    "\n",
    "Examples:  \n",
    "55 is a match, and 55,000 is a match, and 55. is a match (the last could occur at the end of a sentence, for example.  \n",
    "$55,000 is not a match, and 55% is not a match\n"
   ]
  },
  {
   "cell_type": "code",
   "execution_count": 642,
   "metadata": {},
   "outputs": [
    {
     "name": "stdout",
     "output_type": "stream",
     "text": [
      "(0, <re.Match object; span=(143, 148), match='2,000'>)\n",
      "(1, <re.Match object; span=(424, 425), match='2'>)\n",
      "(2, <re.Match object; span=(426, 428), match='21'>)\n",
      "(3, <re.Match object; span=(580, 585), match='2,221'>)\n",
      "(4, <re.Match object; span=(637, 638), match='2'>)\n",
      "(5, <re.Match object; span=(639, 641), match='21'>)\n",
      "(6, <re.Match object; span=(649, 652), match='739'>)\n",
      "(7, <re.Match object; span=(687, 688), match='3'>)\n",
      "(8, <re.Match object; span=(736, 739), match='155'>)\n",
      "(9, <re.Match object; span=(915, 916), match='4'>)\n",
      "(10, <re.Match object; span=(961, 962), match='3'>)\n",
      "(11, <re.Match object; span=(969, 970), match='1'>)\n",
      "(12, <re.Match object; span=(1022, 1028), match='21,000'>)\n"
     ]
    }
   ],
   "source": [
    "# Assuming that the number can't also start with 0, searching for [1-9] only\n",
    "# Used negative lookahead and lookback to remove $ and %, looks a little hard to read\n",
    "q5 = r\"(?<!\\$)[1-9]+(?!%)(?:[\\.,\\s]\\d+)?\" \n",
    "matches = re.finditer(q5, doc1)\n",
    "for match in enumerate(matches):\n",
    "    print(match)"
   ]
  },
  {
   "cell_type": "code",
   "execution_count": 643,
   "metadata": {},
   "outputs": [
    {
     "name": "stdout",
     "output_type": "stream",
     "text": [
      "The number of matches is 13\n"
     ]
    }
   ],
   "source": [
    "print(\"The number of matches is\", len(list(re.finditer(q5, doc1))))"
   ]
  },
  {
   "cell_type": "markdown",
   "metadata": {},
   "source": [
    "#### The following questions ask you to search doc2.\n",
    "\n",
    "#### 6) (2 POINTS) Search *doc2* for two or more words (consisting of only letters) joined by dashes. Print the matches, and print the number of matches.\n",
    "\n",
    "Examples: \"twenty-year-old\" and \"all-star\"  \n",
    "Non-examples: '22-year' and '110-90' are not matches as they contain numbers\n"
   ]
  },
  {
   "cell_type": "code",
   "execution_count": 644,
   "metadata": {},
   "outputs": [
    {
     "name": "stdout",
     "output_type": "stream",
     "text": [
      "(0, <re.Match object; span=(277, 285), match='year-old'>)\n",
      "(1, <re.Match object; span=(333, 347), match='three-pointers'>)\n",
      "(2, <re.Match object; span=(444, 455), match='three-point'>)\n",
      "(3, <re.Match object; span=(669, 677), match='two-time'>)\n",
      "(4, <re.Match object; span=(779, 787), match='all-time'>)\n",
      "(5, <re.Match object; span=(824, 834), match='long-range'>)\n"
     ]
    }
   ],
   "source": [
    "q6 = r\"[a-zA-z]+[-][a-zA-z]+\"\n",
    "matches = re.finditer(q6, doc2)\n",
    "for match in enumerate(matches):\n",
    "    print(match)"
   ]
  },
  {
   "cell_type": "code",
   "execution_count": 645,
   "metadata": {},
   "outputs": [
    {
     "name": "stdout",
     "output_type": "stream",
     "text": [
      "The number of matches is 6\n"
     ]
    }
   ],
   "source": [
    "print(\"The number of matches is\", len(list(re.finditer(q6, doc2))))"
   ]
  },
  {
   "cell_type": "markdown",
   "metadata": {},
   "source": [
    "#### 7) (1 POINT) Search *doc2* for all words starting with an uppercase letter.  Print the matches, and print the number of matches. "
   ]
  },
  {
   "cell_type": "code",
   "execution_count": 646,
   "metadata": {},
   "outputs": [
    {
     "name": "stdout",
     "output_type": "stream",
     "text": [
      "(0, <re.Match object; span=(0, 5), match='Curry'>)\n",
      "(1, <re.Match object; span=(44, 51), match='Chicago'>)\n",
      "(2, <re.Match object; span=(52, 57), match='Bulls'>)\n",
      "(3, <re.Match object; span=(64, 66), match='It'>)\n",
      "(4, <re.Match object; span=(98, 103), match='Steph'>)\n",
      "(5, <re.Match object; span=(104, 109), match='Curry'>)\n",
      "(6, <re.Match object; span=(128, 135), match='Earlier'>)\n",
      "(7, <re.Match object; span=(159, 163), match='Wilt'>)\n",
      "(8, <re.Match object; span=(164, 175), match='Chamberlain'>)\n",
      "(9, <re.Match object; span=(249, 252), match='And'>)\n",
      "(10, <re.Match object; span=(256, 262), match='Friday'>)\n",
      "(11, <re.Match object; span=(310, 313), match='Ray'>)\n",
      "(12, <re.Match object; span=(314, 319), match='Allen'>)\n",
      "(13, <re.Match object; span=(408, 413), match='Curry'>)\n",
      "(14, <re.Match object; span=(472, 478), match='Golden'>)\n",
      "(15, <re.Match object; span=(479, 484), match='State'>)\n",
      "(16, <re.Match object; span=(485, 493), match='Warriors'>)\n",
      "(17, <re.Match object; span=(515, 522), match='Chicago'>)\n",
      "(18, <re.Match object; span=(523, 528), match='Bulls'>)\n",
      "(19, <re.Match object; span=(604, 609), match='Allen'>)\n",
      "(20, <re.Match object; span=(627, 629), match='He'>)\n",
      "(21, <re.Match object; span=(691, 696), match='Allen'>)\n",
      "(22, <re.Match object; span=(761, 764), match='And'>)\n",
      "(23, <re.Match object; span=(847, 851), match='Alex'>)\n",
      "(24, <re.Match object; span=(852, 858), match='Caruso'>)\n"
     ]
    }
   ],
   "source": [
    "q7 = r\"\\b[A-Z]+[a-z]+\"\n",
    "matches = re.finditer(q7, doc2)\n",
    "for match in enumerate(matches):\n",
    "    print(match)"
   ]
  },
  {
   "cell_type": "code",
   "execution_count": 647,
   "metadata": {},
   "outputs": [
    {
     "name": "stdout",
     "output_type": "stream",
     "text": [
      "The number of matches is 25\n"
     ]
    }
   ],
   "source": [
    "print(\"The number of matches is\", len(list(re.finditer(q7, doc2))))"
   ]
  },
  {
   "cell_type": "markdown",
   "metadata": {},
   "source": [
    "#### 8) (1 POINT) Search *doc2* for the word \"in.\" Print the matches, and print the number of matches. \n",
    "\n",
    "Example: \"Jordan is *in* the house  \n",
    "Non-example: Jordan is ready to win (careful not to match on the substring \"in\" in \"win\")"
   ]
  },
  {
   "cell_type": "code",
   "execution_count": 648,
   "metadata": {},
   "outputs": [
    {
     "name": "stdout",
     "output_type": "stream",
     "text": [
      "(0, <re.Match object; span=(13, 15), match='in'>)\n",
      "(1, <re.Match object; span=(239, 241), match='in'>)\n",
      "(2, <re.Match object; span=(355, 357), match='in'>)\n",
      "(3, <re.Match object; span=(393, 395), match='in'>)\n",
      "(4, <re.Match object; span=(465, 467), match='in'>)\n",
      "(5, <re.Match object; span=(547, 549), match='in'>)\n"
     ]
    }
   ],
   "source": [
    "q8 = r\"\\bin\\b\"\n",
    "matches = re.finditer(q8, doc2)\n",
    "for match in enumerate(matches):\n",
    "    print(match)"
   ]
  },
  {
   "cell_type": "code",
   "execution_count": 649,
   "metadata": {},
   "outputs": [
    {
     "name": "stdout",
     "output_type": "stream",
     "text": [
      "The number of matches is 6\n"
     ]
    }
   ],
   "source": [
    "print(\"The number of matches is\", len(list(re.finditer(q8, doc2))))"
   ]
  },
  {
   "cell_type": "markdown",
   "metadata": {},
   "source": [
    "#### 9) (1 POINT) Search *doc2* for a number followed by the word \"points.\"  \n",
    "####    Include capture groups in the regex to extract the number of points, and print the number.  \n",
    "####    Credit is only given if you use capture groups in this exercise.\n",
    "Hint: use the search() function.\n"
   ]
  },
  {
   "cell_type": "code",
   "execution_count": 650,
   "metadata": {},
   "outputs": [
    {
     "name": "stdout",
     "output_type": "stream",
     "text": [
      "Number of points is 50 \n"
     ]
    }
   ],
   "source": [
    "q9 = r\"\\b([0-9]+\\s)(points)\"\n",
    "matches = re.finditer(q9, doc2)\n",
    "for match in matches:\n",
    "    print(\"Number of points is\", match.group(1))"
   ]
  },
  {
   "cell_type": "code",
   "execution_count": null,
   "metadata": {},
   "outputs": [],
   "source": []
  }
 ],
 "metadata": {
  "kernelspec": {
   "display_name": "Python 3",
   "language": "python",
   "name": "python3"
  },
  "language_info": {
   "codemirror_mode": {
    "name": "ipython",
    "version": 3
   },
   "file_extension": ".py",
   "mimetype": "text/x-python",
   "name": "python",
   "nbconvert_exporter": "python",
   "pygments_lexer": "ipython3",
   "version": "3.8.3"
  }
 },
 "nbformat": 4,
 "nbformat_minor": 4
}
