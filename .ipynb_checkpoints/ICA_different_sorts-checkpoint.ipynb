{
 "cells": [
  {
   "cell_type": "markdown",
   "metadata": {},
   "source": [
    "- **ICA-2.3: Sorting Algorithm Presentations Setup**\n",
    "- **By: Dima Mikhaylov**\n",
    "- **ID: agp7dp**"
   ]
  },
  {
   "cell_type": "markdown",
   "metadata": {},
   "source": [
    "# Bubble Sort (Group 1, 5, ...)\n",
    "### General description of the algorithm\n",
    "- In short, this algorithm basically compares adjacent elements only moving the larger element forward (or backward, if descending order is desired). "
   ]
  },
  {
   "cell_type": "markdown",
   "metadata": {},
   "source": [
    "### Demonstration: How it works (review code/algorithm)"
   ]
  },
  {
   "cell_type": "code",
   "execution_count": 13,
   "metadata": {},
   "outputs": [],
   "source": [
    "def bubbleSort(arr):\n",
    "    \n",
    "    '''\n",
    "    Performs bubble sort, i.e. traverses the array from 0 to n-i-1 and\n",
    "    swaps elements if the element found is greater.\n",
    "    \n",
    "    Arguments\n",
    "    ---------\n",
    "    arr: list\n",
    "       list to be sorted\n",
    "    \n",
    "    Returns\n",
    "    --------\n",
    "    none: sorts in-place      \n",
    "    \n",
    "    Note: Computational Step Count Estimates (worst case) shown in comments\n",
    "    '''\n",
    "    \n",
    "    n = len(arr) #  # c1: constant number of steps\n",
    "    for i in range(n-1): #  # c2*n: a linear number of steps         \n",
    "        for j in range(0, n-i-1):   # # c3*n: a quadratic number of steps            \n",
    "            if arr[j] > arr[j+1]:  # c4: constant number of steps                \n",
    "                arr[j], arr[j+1] = arr[j+1], arr[j] # c5: constant number of steps\n",
    "\n",
    "                # Thus T(n) is O(n^2) a there is a nested loop"
   ]
  },
  {
   "cell_type": "code",
   "execution_count": 14,
   "metadata": {},
   "outputs": [
    {
     "name": "stdout",
     "output_type": "stream",
     "text": [
      "Sorted array is:\n",
      " 11  12  22  25  34  64  90 "
     ]
    }
   ],
   "source": [
    "# Demonstration of bubble sort:\n",
    "testarr = [64, 34, 25, 12, 22, 11, 90]\n",
    "\n",
    "bubbleSort(arr)\n",
    "\n",
    "print (\"Sorted array is:\")\n",
    "for i in range(len(testarr)):\n",
    "    print (\"% d\" % arr[i],end=\" \")"
   ]
  },
  {
   "cell_type": "markdown",
   "metadata": {},
   "source": [
    "### Advantages\n",
    "\n",
    "- The main advantage is that it so easy to understand and program\n",
    "- It is a rare stable sorting routine \n",
    "- It can be implemented recursively \n",
    "- The data is sorted in place so there is no additional space requirements\n",
    "- Runs super fast on partially sorted data\n",
    "- It can actually be used to test efficiently if input is sorted\n",
    "\n",
    "### Disadvantages\n",
    "- For all other initial conditions, it is generally inferior O(n^2) algorithm\n",
    "- It does not utilized divide-and-conquer \n",
    "\n",
    "### Can you think of ways to remedy any of these disadvantages?\n",
    "- One way to improve the run time speed is not to revisit already sorted elements that have \"bubbled up\"\n",
    "\n",
    "### Complexity (in the worst case — that is Big-Oh!)\n",
    "- As shown in the code above, the worst case is O(n^2)\n",
    "\n",
    "### Would you recommend this algorithm? Why or why not?\n",
    "- Yes, for partially sorted data and also for education purposes to teach complexity and recursion\n",
    "- Not for \"few unique\" or \"nearly random\" data distributions, also not for Big Data\n",
    "\n",
    "### Scenario in which you’d use this algorithm.\n",
    "- As mentioned above, it can be an interesting approach to use it to test if the array is sorted and, for example, to what extend it is sorted. "
   ]
  },
  {
   "cell_type": "code",
   "execution_count": null,
   "metadata": {},
   "outputs": [],
   "source": []
  },
  {
   "cell_type": "code",
   "execution_count": null,
   "metadata": {},
   "outputs": [],
   "source": []
  },
  {
   "cell_type": "code",
   "execution_count": null,
   "metadata": {},
   "outputs": [],
   "source": []
  },
  {
   "cell_type": "code",
   "execution_count": null,
   "metadata": {},
   "outputs": [],
   "source": []
  },
  {
   "cell_type": "code",
   "execution_count": null,
   "metadata": {},
   "outputs": [],
   "source": []
  },
  {
   "cell_type": "code",
   "execution_count": null,
   "metadata": {},
   "outputs": [],
   "source": []
  },
  {
   "cell_type": "code",
   "execution_count": null,
   "metadata": {},
   "outputs": [],
   "source": []
  },
  {
   "cell_type": "code",
   "execution_count": null,
   "metadata": {},
   "outputs": [],
   "source": []
  },
  {
   "cell_type": "code",
   "execution_count": null,
   "metadata": {},
   "outputs": [],
   "source": []
  },
  {
   "cell_type": "code",
   "execution_count": null,
   "metadata": {},
   "outputs": [],
   "source": [
    "from itertools import chain\n",
    "import time\n",
    "import random\n",
    "import matplotlib.pyplot as plt\n",
    "import heapq as hq"
   ]
  },
  {
   "cell_type": "markdown",
   "metadata": {},
   "source": [
    "## Quick Sort"
   ]
  },
  {
   "cell_type": "code",
   "execution_count": null,
   "metadata": {},
   "outputs": [],
   "source": []
  },
  {
   "cell_type": "code",
   "execution_count": null,
   "metadata": {},
   "outputs": [],
   "source": []
  },
  {
   "cell_type": "code",
   "execution_count": null,
   "metadata": {},
   "outputs": [],
   "source": []
  },
  {
   "cell_type": "markdown",
   "metadata": {},
   "source": [
    "## Radix Sort"
   ]
  },
  {
   "cell_type": "code",
   "execution_count": null,
   "metadata": {},
   "outputs": [],
   "source": []
  },
  {
   "cell_type": "code",
   "execution_count": null,
   "metadata": {},
   "outputs": [],
   "source": []
  },
  {
   "cell_type": "code",
   "execution_count": null,
   "metadata": {},
   "outputs": [],
   "source": []
  },
  {
   "cell_type": "markdown",
   "metadata": {},
   "source": [
    "## Shell Sort"
   ]
  },
  {
   "cell_type": "code",
   "execution_count": null,
   "metadata": {},
   "outputs": [],
   "source": []
  },
  {
   "cell_type": "code",
   "execution_count": null,
   "metadata": {},
   "outputs": [],
   "source": []
  },
  {
   "cell_type": "code",
   "execution_count": null,
   "metadata": {},
   "outputs": [],
   "source": []
  },
  {
   "cell_type": "markdown",
   "metadata": {},
   "source": [
    "## Insertion Sort"
   ]
  },
  {
   "cell_type": "code",
   "execution_count": null,
   "metadata": {},
   "outputs": [],
   "source": []
  },
  {
   "cell_type": "code",
   "execution_count": null,
   "metadata": {},
   "outputs": [],
   "source": []
  },
  {
   "cell_type": "code",
   "execution_count": null,
   "metadata": {},
   "outputs": [],
   "source": []
  },
  {
   "cell_type": "code",
   "execution_count": null,
   "metadata": {},
   "outputs": [],
   "source": []
  },
  {
   "cell_type": "markdown",
   "metadata": {},
   "source": [
    "## Heap Sort"
   ]
  },
  {
   "cell_type": "code",
   "execution_count": 2,
   "metadata": {},
   "outputs": [],
   "source": [
    "import heapq as hq\n",
    "\n",
    "\n",
    "def heapSort(iterable):\n",
    "    h = [] # create an empty list, O(1)\n",
    "    for value in iterable: # for each value in the list,  O(n)\n",
    "        hq.heappush(h, value) # push to the heap, O(n log(n))\n",
    "    return [hq.heappop(h) for i in range(len(h))] # pop the smallest and return the list in O(n log(n))\n",
    "\n",
    "# Expected T(n) = O(n log(n))"
   ]
  },
  {
   "cell_type": "code",
   "execution_count": 3,
   "metadata": {},
   "outputs": [
    {
     "data": {
      "text/plain": [
       "[1, 2, 4, 5, 6]"
      ]
     },
     "execution_count": 3,
     "metadata": {},
     "output_type": "execute_result"
    }
   ],
   "source": [
    "heapSort([1, 4, 2, 5, 6])"
   ]
  },
  {
   "cell_type": "markdown",
   "metadata": {},
   "source": [
    "## Testing"
   ]
  },
  {
   "cell_type": "code",
   "execution_count": null,
   "metadata": {},
   "outputs": [],
   "source": [
    "'''\n",
    "Run trials and record the runtimes of each sorting algorithm\n",
    "'''\n",
    "## record the time results\n",
    "radixTime = []\n",
    "heapTime  = []\n",
    "defaultTime = []\n",
    "insertionTime =[]\n",
    "\n",
    "size = 1200\n",
    "stepSize = 100\n",
    "## calculate the time required to sort various size lists\n",
    "for i in range(0, size, stepSize):\n",
    "    ## generate the random list\n",
    "    rList = random.sample(range(0, size), i)\n",
    "    \n",
    "    ## do the radix sort\n",
    "    start = time.perf_counter()\n",
    "    numDigits = getDigits(rList)\n",
    "    radixSort(rList, numDigits)\n",
    "    radixTime.append(time.perf_counter() - start)\n",
    "    \n",
    "    ## do the insertion sort\n",
    "    start = time.perf_counter()\n",
    "    insertionSort(rList)\n",
    "    insertionTime.append(time.perf_counter() - start)\n",
    "    \n",
    "    ## do the default python sort (Tim Sort)\n",
    "    start = time.perf_counter()\n",
    "    sorted(rList)\n",
    "    defaultTime.append(time.perf_counter() - start)\n",
    "\n",
    "## plot the results\n",
    "plt.plot(range(0, size, stepSize), radixTime, label = 'Radix')\n",
    "plt.plot(range(0, size, stepSize), insertionTime, label = 'Insertion')\n",
    "#plt.plot(range(0, size, stepSize), defaultTime, label = 'Default')\n",
    "plt.legend(frameon = 'none')\n",
    "plt.title('Time Comparison of Radix & Insertion Sort')\n",
    "plt.xlabel('List Size')\n",
    "plt.ylabel('Runtime')"
   ]
  }
 ],
 "metadata": {
  "kernelspec": {
   "display_name": "Python 3",
   "language": "python",
   "name": "python3"
  },
  "language_info": {
   "codemirror_mode": {
    "name": "ipython",
    "version": 3
   },
   "file_extension": ".py",
   "mimetype": "text/x-python",
   "name": "python",
   "nbconvert_exporter": "python",
   "pygments_lexer": "ipython3",
   "version": "3.8.3"
  }
 },
 "nbformat": 4,
 "nbformat_minor": 4
}
