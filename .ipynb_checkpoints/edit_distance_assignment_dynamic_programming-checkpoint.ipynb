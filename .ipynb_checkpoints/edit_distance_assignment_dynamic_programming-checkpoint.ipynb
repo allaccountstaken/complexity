{
 "cells": [
  {
   "cell_type": "markdown",
   "metadata": {},
   "source": [
    " - HW7: Dynamic Programing\n",
    " - By: Dima Mikhaylov\n",
    " - ID: agp7dp"
   ]
  },
  {
   "cell_type": "markdown",
   "metadata": {},
   "source": [
    "### CS 5012: Foundations of Computer Science\n",
    "#### Programming Assignment: Computing Edit Distance\n",
    "\n",
    "Last Updated: March 21, 2022\n"
   ]
  },
  {
   "cell_type": "markdown",
   "metadata": {},
   "source": [
    "---"
   ]
  },
  {
   "cell_type": "markdown",
   "metadata": {},
   "source": [
    "**INSTRUCTIONS**\n",
    "\n",
    "Recall that *edit distance* is used to quantify the dissimilarity of two strings.  \n",
    "This is done by counting the minimum number of operations required to transform one string into the other.\n",
    "\n",
    "The operations we will consider are:\n",
    "- delete a character (**H**ello -> ello)\n",
    "- insert a character (ello -> **H**ello)\n",
    "- substitute a character (**t**op -> **b**op) \n",
    "\n",
    "We apply a penalty of 1 for each of these operations.\n",
    "\n",
    "Example:\n",
    "- string1: Hello\n",
    "- string2: elllo\n",
    "\n",
    "edit_distance(Hello,elllo) = 2\n",
    "\n",
    "Starting with *elllo* for example:   \n",
    "elllo -> **H**elllo (insert H: +1)   \n",
    "Hel**l**lo -> Hello (delete l: +1)\n",
    "\n",
    "The strings now match after two operations.\n",
    "\n",
    "Solve all tasks below, showing code and results.  \n",
    "Submit your completed file.\n",
    "\n",
    "\n",
    "**TOTAL POINTS: 10**\n",
    "\n",
    "---"
   ]
  },
  {
   "cell_type": "markdown",
   "metadata": {},
   "source": [
    "1) (6 POINTS) Write a function that take two strings as input, and computes and returns their edit distance. Use a matrix (as in LCS calculations) to track results, and have the function print the matrix."
   ]
  },
  {
   "cell_type": "code",
   "execution_count": 141,
   "metadata": {},
   "outputs": [],
   "source": [
    "# Sources:\n",
    "# https://medium.com/geekculture/edit-distance-algorithm-cc5c1a39fba6\n",
    "# https://bdebo.medium.com/edit-distance-643a4bcfaa09\n",
    "# https://python-course.eu/applications-python/levenshtein-distance.php\n",
    "# as well as the office hours discussion...\n",
    "\n",
    "def edit_distance(A, B):\n",
    "    \"\"\"\n",
    "    Dynamic programming method to compute edit distance of 2 strigs, A and B.\n",
    "    It returns LCS matrix, as well as an interger distance.\n",
    "    \"\"\"\n",
    "    A_rows = len(A)+1\n",
    "    B_cols = len(B)+1\n",
    "    D = [[0 for x in range(B_cols)] for x in range(A_rows)]\n",
    "\n",
    "    # Base case\n",
    "    for i in range(1, A_rows):\n",
    "        D[i][0] = i # i for rows\n",
    "    for j in range(1, B_cols):\n",
    "        D[0][j] = j # j for columns\n",
    "    \n",
    "    # Build out the rest of the table:\n",
    "    for j in range(1, B_cols):\n",
    "        for i in range(1, A_rows):\n",
    "            if A[i-1] == B[j-1]: # If same, no additional costs\n",
    "                cost = 0\n",
    "            else:\n",
    "                cost = 1 # Else take min of insert, del, sub movements\n",
    "            D[i][j] = min(D[i-1][j] + 1, \n",
    "                          D[i][j-1] + 1, \n",
    "                          D[i-1][j-1] + cost)\n",
    "    \n",
    "    # Report results:\n",
    "    print(\"LCS matrix:\")\n",
    "    for r in range(A_rows):\n",
    "        print(D[r])        \n",
    "    edit_distance = \"\\nEdit Distance:\\n\" + str(D[-1][-1])    \n",
    "    return edit_distance"
   ]
  },
  {
   "cell_type": "markdown",
   "metadata": {},
   "source": [
    "2) (1 POINT) Compute edit distance between **Bellman** and empty string"
   ]
  },
  {
   "cell_type": "code",
   "execution_count": 149,
   "metadata": {},
   "outputs": [
    {
     "name": "stdout",
     "output_type": "stream",
     "text": [
      "LCS matrix:\n",
      "[0]\n",
      "[1]\n",
      "[2]\n",
      "[3]\n",
      "[4]\n",
      "[5]\n",
      "[6]\n",
      "[7]\n",
      "\n",
      "Edit Distance:\n",
      "7\n"
     ]
    }
   ],
   "source": [
    "print(edit_distance(\"Bellman\",\"\"))"
   ]
  },
  {
   "cell_type": "markdown",
   "metadata": {},
   "source": [
    "3)  (1 POINT) Compute edit distance between **test** and **test**"
   ]
  },
  {
   "cell_type": "code",
   "execution_count": 142,
   "metadata": {},
   "outputs": [
    {
     "name": "stdout",
     "output_type": "stream",
     "text": [
      "LCS matrix:\n",
      "[0, 1, 2, 3, 4]\n",
      "[1, 0, 1, 2, 3]\n",
      "[2, 1, 0, 1, 2]\n",
      "[3, 2, 1, 0, 1]\n",
      "[4, 3, 2, 1, 0]\n",
      "\n",
      "Edit Distance:\n",
      "0\n"
     ]
    }
   ],
   "source": [
    "print(edit_distance(\"test\", \"test\"))"
   ]
  },
  {
   "cell_type": "markdown",
   "metadata": {},
   "source": [
    "4a)  (1 POINT) Compute edit distance between **mailman** and **namliam**"
   ]
  },
  {
   "cell_type": "code",
   "execution_count": 143,
   "metadata": {},
   "outputs": [
    {
     "name": "stdout",
     "output_type": "stream",
     "text": [
      "LCS matrix:\n",
      "[0, 1, 2, 3, 4, 5, 6, 7]\n",
      "[1, 1, 2, 2, 3, 4, 5, 6]\n",
      "[2, 2, 1, 2, 3, 4, 4, 5]\n",
      "[3, 3, 2, 2, 3, 3, 4, 5]\n",
      "[4, 4, 3, 3, 2, 3, 4, 5]\n",
      "[5, 5, 4, 3, 3, 3, 4, 4]\n",
      "[6, 6, 5, 4, 4, 4, 3, 4]\n",
      "[7, 6, 6, 5, 5, 5, 4, 4]\n",
      "\n",
      "Edit Distance:\n",
      "4\n"
     ]
    }
   ],
   "source": [
    "print(edit_distance(\"mailman\", \"namliam\"))"
   ]
  },
  {
   "cell_type": "markdown",
   "metadata": {},
   "source": [
    "4b)  (1 POINT) Show each step of the process to change **mailman** to **namliam**.\n",
    "\n",
    "This should verify the edit distance. You might find your solution from (4a) helpful. "
   ]
  },
  {
   "cell_type": "markdown",
   "metadata": {},
   "source": [
    "**Answer:**\n",
    "- Letter #1  needs to be replaced from *m* to *n*, costs = 1;\n",
    "- Letter #2  is ok, costs still at 1;\n",
    "- Letter #3 needs to be replaced from *i* to *m*, costs = 2:\n",
    "- Letter #4 is ok, costs still at 2;\n",
    "- Letter #5 needs to be replaced from *m* to *i*, costs = 3:\n",
    "- Letter #6 is ok, costs still at 3;\n",
    "- Letter #7 needs to be replaced from *n* to *m*\n",
    "\n",
    "Total edit distance = costs = 4"
   ]
  }
 ],
 "metadata": {
  "kernelspec": {
   "display_name": "Python 3",
   "language": "python",
   "name": "python3"
  },
  "language_info": {
   "codemirror_mode": {
    "name": "ipython",
    "version": 3
   },
   "file_extension": ".py",
   "mimetype": "text/x-python",
   "name": "python",
   "nbconvert_exporter": "python",
   "pygments_lexer": "ipython3",
   "version": "3.8.3"
  }
 },
 "nbformat": 4,
 "nbformat_minor": 4
}
